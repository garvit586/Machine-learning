{
 "cells": [
  {
   "cell_type": "markdown",
   "id": "e8842a2f",
   "metadata": {},
   "source": [
    "# Numpy Exercise"
   ]
  },
  {
   "cell_type": "markdown",
   "id": "ef20be71",
   "metadata": {},
   "source": [
    "#### import numpy library"
   ]
  },
  {
   "cell_type": "code",
   "execution_count": 1,
   "id": "cac422d8",
   "metadata": {},
   "outputs": [],
   "source": [
    "import numpy as np"
   ]
  },
  {
   "cell_type": "markdown",
   "id": "aeac6277",
   "metadata": {},
   "source": [
    "#### create an array function"
   ]
  },
  {
   "cell_type": "code",
   "execution_count": 3,
   "id": "4131bc4b",
   "metadata": {},
   "outputs": [
    {
     "data": {
      "text/plain": [
       "array([1, 2, 3, 4, 5])"
      ]
     },
     "execution_count": 3,
     "metadata": {},
     "output_type": "execute_result"
    }
   ],
   "source": [
    "arr = np.array([1,2,3,4,5])\n",
    "arr"
   ]
  },
  {
   "cell_type": "markdown",
   "id": "a4947462",
   "metadata": {},
   "source": [
    "#### create an array containing numbers from 20 to 40 "
   ]
  },
  {
   "cell_type": "code",
   "execution_count": 8,
   "id": "94c73bab",
   "metadata": {},
   "outputs": [
    {
     "data": {
      "text/plain": [
       "array([1, 2, 3, 4, 5])"
      ]
     },
     "execution_count": 8,
     "metadata": {},
     "output_type": "execute_result"
    }
   ],
   "source": [
    "arr2 = np.arange(20,40)\n",
    "arr"
   ]
  },
  {
   "cell_type": "markdown",
   "id": "df88511e",
   "metadata": {},
   "source": [
    "#### create an array which contain 10 elements and every element is 5"
   ]
  },
  {
   "cell_type": "code",
   "execution_count": 11,
   "id": "52ca60d1",
   "metadata": {},
   "outputs": [
    {
     "data": {
      "text/plain": [
       "array([5., 5., 5., 5., 5., 5., 5., 5., 5., 5.])"
      ]
     },
     "execution_count": 11,
     "metadata": {},
     "output_type": "execute_result"
    }
   ],
   "source": [
    "arr3 = np.ones(10)*5\n",
    "arr3"
   ]
  },
  {
   "cell_type": "markdown",
   "id": "90a4a886",
   "metadata": {},
   "source": [
    "#### create a 1-d array and then convert it into 3-D array"
   ]
  },
  {
   "cell_type": "code",
   "execution_count": 13,
   "id": "4e05a928",
   "metadata": {},
   "outputs": [
    {
     "data": {
      "text/plain": [
       "array([[[1, 2],\n",
       "        [3, 4]],\n",
       "\n",
       "       [[5, 6],\n",
       "        [7, 8]]])"
      ]
     },
     "execution_count": 13,
     "metadata": {},
     "output_type": "execute_result"
    }
   ],
   "source": [
    "arr4 = np.array([1,2,3,4,5,6,7,8]).reshape(2,2,2)\n",
    "arr4"
   ]
  },
  {
   "cell_type": "code",
   "execution_count": 15,
   "id": "96708f3f",
   "metadata": {},
   "outputs": [
    {
     "data": {
      "text/plain": [
       "array([[[9, 4],\n",
       "        [5, 4]],\n",
       "\n",
       "       [[9, 3],\n",
       "        [3, 4]]])"
      ]
     },
     "execution_count": 15,
     "metadata": {},
     "output_type": "execute_result"
    }
   ],
   "source": [
    "arr5 = np.random.randint(1,10,8).reshape(2,2,2)\n",
    "arr5"
   ]
  },
  {
   "cell_type": "markdown",
   "id": "a935ebd2",
   "metadata": {},
   "source": [
    "#### creatte 2d array which contain random 25 numbers between 0and 1"
   ]
  },
  {
   "cell_type": "code",
   "execution_count": 16,
   "id": "b597232e",
   "metadata": {},
   "outputs": [
    {
     "data": {
      "text/plain": [
       "array([[0.28620396, 0.85080249, 0.37156282, 0.00879299, 0.89873369],\n",
       "       [0.23667733, 0.81127576, 0.32797013, 0.75293606, 0.48051642],\n",
       "       [0.4301379 , 0.72431235, 0.3009789 , 0.18441392, 0.02574371],\n",
       "       [0.0577041 , 0.62553076, 0.35207035, 0.45490465, 0.51906742],\n",
       "       [0.43908111, 0.84816031, 0.07929538, 0.44745113, 0.26059182]])"
      ]
     },
     "execution_count": 16,
     "metadata": {},
     "output_type": "execute_result"
    }
   ],
   "source": [
    "arr6 = np.random.rand(25).reshape(5,5)\n",
    "arr6"
   ]
  },
  {
   "cell_type": "markdown",
   "id": "cf686537",
   "metadata": {},
   "source": [
    "#### create array containing 20 random integer then replace every even number with -1"
   ]
  },
  {
   "cell_type": "code",
   "execution_count": 17,
   "id": "811a62cf",
   "metadata": {},
   "outputs": [
    {
     "data": {
      "text/plain": [
       "array([-1,  3, 29, 35, 39, -1, -1, 43, 23, -1, 33, -1, -1, 33, 47, 33, -1,\n",
       "       -1, -1, 15])"
      ]
     },
     "execution_count": 17,
     "metadata": {},
     "output_type": "execute_result"
    }
   ],
   "source": [
    "np.random.seed(123)\n",
    "arr7 = np.random.randint(1,50,20)\n",
    "arr7[arr7 % 2 == 0] = -1\n",
    "arr7"
   ]
  },
  {
   "cell_type": "markdown",
   "id": "8234b747",
   "metadata": {},
   "source": [
    "#### concatenate two 1-D array"
   ]
  },
  {
   "cell_type": "code",
   "execution_count": 18,
   "id": "8a1a8e3e",
   "metadata": {},
   "outputs": [
    {
     "data": {
      "text/plain": [
       "array([1, 2, 3, 4, 5, 6, 7, 8, 9])"
      ]
     },
     "execution_count": 18,
     "metadata": {},
     "output_type": "execute_result"
    }
   ],
   "source": [
    "arr8 = np.array([1,2,3,4,5])\n",
    "arr9 = np.array([6,7,8,9])\n",
    "np.hstack((arr8,arr9))"
   ]
  },
  {
   "cell_type": "code",
   "execution_count": 20,
   "id": "cd7ab5be",
   "metadata": {},
   "outputs": [
    {
     "data": {
      "text/plain": [
       "array([1, 2, 3, 4, 5, 6, 7, 8, 9])"
      ]
     },
     "execution_count": 20,
     "metadata": {},
     "output_type": "execute_result"
    }
   ],
   "source": [
    "np.concatenate((arr8,arr9))"
   ]
  },
  {
   "cell_type": "code",
   "execution_count": null,
   "id": "95621f06",
   "metadata": {},
   "outputs": [],
   "source": []
  }
 ],
 "metadata": {
  "kernelspec": {
   "display_name": "Python 3",
   "language": "python",
   "name": "python3"
  },
  "language_info": {
   "codemirror_mode": {
    "name": "ipython",
    "version": 3
   },
   "file_extension": ".py",
   "mimetype": "text/x-python",
   "name": "python",
   "nbconvert_exporter": "python",
   "pygments_lexer": "ipython3",
   "version": "3.8.8"
  }
 },
 "nbformat": 4,
 "nbformat_minor": 5
}
